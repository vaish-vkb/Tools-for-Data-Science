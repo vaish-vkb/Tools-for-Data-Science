{
 "cells": [
  {
   "cell_type": "markdown",
   "id": "cbda10d9",
   "metadata": {},
   "source": [
    "# Hi! I am Vaishnavi, a data scientist aspirant."
   ]
  },
  {
   "cell_type": "markdown",
   "id": "c4b64fb1",
   "metadata": {},
   "source": [
    "## Below is my assigment for Tools for Data Science"
   ]
  },
  {
   "cell_type": "markdown",
   "id": "cb0c7a79",
   "metadata": {},
   "source": [
    "### I am unable to login through IBM Watson Studio due to Technical error thus I am using Anaconda Jupyter Notebook"
   ]
  },
  {
   "cell_type": "markdown",
   "id": "021835b2",
   "metadata": {},
   "source": [
    "#### Below is my program"
   ]
  },
  {
   "cell_type": "code",
   "execution_count": 1,
   "id": "93e0c4c9",
   "metadata": {},
   "outputs": [
    {
     "name": "stdout",
     "output_type": "stream",
     "text": [
      "Hello World\n",
      "Welcome to data science\n",
      "Excited to recieve my certificate\n"
     ]
    }
   ],
   "source": [
    "print(\"Hello World\")\n",
    "print(\"Welcome to data science\")\n",
    "print(\"Excited to recieve my certificate\")"
   ]
  },
  {
   "cell_type": "markdown",
   "id": "d4a30738",
   "metadata": {},
   "source": [
    "#### The above is my output. Hope you will like it"
   ]
  },
  {
   "cell_type": "code",
   "execution_count": null,
   "id": "6f20234d",
   "metadata": {},
   "outputs": [],
   "source": []
  }
 ],
 "metadata": {
  "kernelspec": {
   "display_name": "Python 3 (ipykernel)",
   "language": "python",
   "name": "python3"
  },
  "language_info": {
   "codemirror_mode": {
    "name": "ipython",
    "version": 3
   },
   "file_extension": ".py",
   "mimetype": "text/x-python",
   "name": "python",
   "nbconvert_exporter": "python",
   "pygments_lexer": "ipython3",
   "version": "3.9.7"
  }
 },
 "nbformat": 4,
 "nbformat_minor": 5
}
